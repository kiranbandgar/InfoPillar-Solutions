{
  "nbformat": 4,
  "nbformat_minor": 0,
  "metadata": {
    "colab": {
      "name": "Boston House Pricing.ipynb",
      "provenance": []
    },
    "kernelspec": {
      "name": "python3",
      "display_name": "Python 3"
    },
    "language_info": {
      "name": "python"
    }
  },
  "cells": [
    {
      "cell_type": "code",
      "metadata": {
        "id": "IHW_rfFJ3bc9"
      },
      "source": [
        "import pandas as pd\n",
        "import matplotlib.pyplot as plt\n",
        "import numpy as np"
      ],
      "execution_count": 19,
      "outputs": []
    },
    {
      "cell_type": "code",
      "metadata": {
        "id": "zfSrSn273iFn"
      },
      "source": [
        "data=pd.read_csv('/content/Boston.csv')"
      ],
      "execution_count": 20,
      "outputs": []
    },
    {
      "cell_type": "code",
      "metadata": {
        "colab": {
          "base_uri": "https://localhost:8080/",
          "height": 204
        },
        "id": "kHpc53L63oyP",
        "outputId": "ba378f21-6662-4be4-8f33-aeb90ee4c8ff"
      },
      "source": [
        "data.head()"
      ],
      "execution_count": 21,
      "outputs": [
        {
          "output_type": "execute_result",
          "data": {
            "text/html": [
              "<div>\n",
              "<style scoped>\n",
              "    .dataframe tbody tr th:only-of-type {\n",
              "        vertical-align: middle;\n",
              "    }\n",
              "\n",
              "    .dataframe tbody tr th {\n",
              "        vertical-align: top;\n",
              "    }\n",
              "\n",
              "    .dataframe thead th {\n",
              "        text-align: right;\n",
              "    }\n",
              "</style>\n",
              "<table border=\"1\" class=\"dataframe\">\n",
              "  <thead>\n",
              "    <tr style=\"text-align: right;\">\n",
              "      <th></th>\n",
              "      <th>Unnamed: 0</th>\n",
              "      <th>crim</th>\n",
              "      <th>zn</th>\n",
              "      <th>indus</th>\n",
              "      <th>chas</th>\n",
              "      <th>nox</th>\n",
              "      <th>rm</th>\n",
              "      <th>age</th>\n",
              "      <th>dis</th>\n",
              "      <th>rad</th>\n",
              "      <th>tax</th>\n",
              "      <th>ptratio</th>\n",
              "      <th>black</th>\n",
              "      <th>lstat</th>\n",
              "      <th>medv</th>\n",
              "    </tr>\n",
              "  </thead>\n",
              "  <tbody>\n",
              "    <tr>\n",
              "      <th>0</th>\n",
              "      <td>1</td>\n",
              "      <td>0.00632</td>\n",
              "      <td>18.0</td>\n",
              "      <td>2.31</td>\n",
              "      <td>0</td>\n",
              "      <td>0.538</td>\n",
              "      <td>6.575</td>\n",
              "      <td>65.2</td>\n",
              "      <td>4.0900</td>\n",
              "      <td>1</td>\n",
              "      <td>296</td>\n",
              "      <td>15.3</td>\n",
              "      <td>396.90</td>\n",
              "      <td>4.98</td>\n",
              "      <td>24.0</td>\n",
              "    </tr>\n",
              "    <tr>\n",
              "      <th>1</th>\n",
              "      <td>2</td>\n",
              "      <td>0.02731</td>\n",
              "      <td>0.0</td>\n",
              "      <td>7.07</td>\n",
              "      <td>0</td>\n",
              "      <td>0.469</td>\n",
              "      <td>6.421</td>\n",
              "      <td>78.9</td>\n",
              "      <td>4.9671</td>\n",
              "      <td>2</td>\n",
              "      <td>242</td>\n",
              "      <td>17.8</td>\n",
              "      <td>396.90</td>\n",
              "      <td>9.14</td>\n",
              "      <td>21.6</td>\n",
              "    </tr>\n",
              "    <tr>\n",
              "      <th>2</th>\n",
              "      <td>3</td>\n",
              "      <td>0.02729</td>\n",
              "      <td>0.0</td>\n",
              "      <td>7.07</td>\n",
              "      <td>0</td>\n",
              "      <td>0.469</td>\n",
              "      <td>7.185</td>\n",
              "      <td>61.1</td>\n",
              "      <td>4.9671</td>\n",
              "      <td>2</td>\n",
              "      <td>242</td>\n",
              "      <td>17.8</td>\n",
              "      <td>392.83</td>\n",
              "      <td>4.03</td>\n",
              "      <td>34.7</td>\n",
              "    </tr>\n",
              "    <tr>\n",
              "      <th>3</th>\n",
              "      <td>4</td>\n",
              "      <td>0.03237</td>\n",
              "      <td>0.0</td>\n",
              "      <td>2.18</td>\n",
              "      <td>0</td>\n",
              "      <td>0.458</td>\n",
              "      <td>6.998</td>\n",
              "      <td>45.8</td>\n",
              "      <td>6.0622</td>\n",
              "      <td>3</td>\n",
              "      <td>222</td>\n",
              "      <td>18.7</td>\n",
              "      <td>394.63</td>\n",
              "      <td>2.94</td>\n",
              "      <td>33.4</td>\n",
              "    </tr>\n",
              "    <tr>\n",
              "      <th>4</th>\n",
              "      <td>5</td>\n",
              "      <td>0.06905</td>\n",
              "      <td>0.0</td>\n",
              "      <td>2.18</td>\n",
              "      <td>0</td>\n",
              "      <td>0.458</td>\n",
              "      <td>7.147</td>\n",
              "      <td>54.2</td>\n",
              "      <td>6.0622</td>\n",
              "      <td>3</td>\n",
              "      <td>222</td>\n",
              "      <td>18.7</td>\n",
              "      <td>396.90</td>\n",
              "      <td>5.33</td>\n",
              "      <td>36.2</td>\n",
              "    </tr>\n",
              "  </tbody>\n",
              "</table>\n",
              "</div>"
            ],
            "text/plain": [
              "   Unnamed: 0     crim    zn  indus  chas  ...  tax  ptratio   black  lstat  medv\n",
              "0           1  0.00632  18.0   2.31     0  ...  296     15.3  396.90   4.98  24.0\n",
              "1           2  0.02731   0.0   7.07     0  ...  242     17.8  396.90   9.14  21.6\n",
              "2           3  0.02729   0.0   7.07     0  ...  242     17.8  392.83   4.03  34.7\n",
              "3           4  0.03237   0.0   2.18     0  ...  222     18.7  394.63   2.94  33.4\n",
              "4           5  0.06905   0.0   2.18     0  ...  222     18.7  396.90   5.33  36.2\n",
              "\n",
              "[5 rows x 15 columns]"
            ]
          },
          "metadata": {},
          "execution_count": 21
        }
      ]
    },
    {
      "cell_type": "code",
      "metadata": {
        "colab": {
          "base_uri": "https://localhost:8080/"
        },
        "id": "goBJprS23qNv",
        "outputId": "d41dd214-e90d-48e4-fd7d-7a8181fe786c"
      },
      "source": [
        "data.isnull().sum()"
      ],
      "execution_count": 22,
      "outputs": [
        {
          "output_type": "execute_result",
          "data": {
            "text/plain": [
              "Unnamed: 0    0\n",
              "crim          0\n",
              "zn            0\n",
              "indus         0\n",
              "chas          0\n",
              "nox           0\n",
              "rm            0\n",
              "age           0\n",
              "dis           0\n",
              "rad           0\n",
              "tax           0\n",
              "ptratio       0\n",
              "black         0\n",
              "lstat         0\n",
              "medv          0\n",
              "dtype: int64"
            ]
          },
          "metadata": {},
          "execution_count": 22
        }
      ]
    },
    {
      "cell_type": "code",
      "metadata": {
        "id": "xdg4s_3c3u8_"
      },
      "source": [
        "features=data.drop(['Unnamed: 0','medv'],axis=1)\n",
        "target=data[['medv']]"
      ],
      "execution_count": 23,
      "outputs": []
    },
    {
      "cell_type": "code",
      "metadata": {
        "id": "Ey1DZbXO38pI"
      },
      "source": [
        "from sklearn.model_selection import train_test_split"
      ],
      "execution_count": 24,
      "outputs": []
    },
    {
      "cell_type": "code",
      "metadata": {
        "id": "hWcfqXG84DJN"
      },
      "source": [
        "x_train,x_test,y_train,y_test=train_test_split(features,target,train_size=0.8,random_state=1)"
      ],
      "execution_count": 25,
      "outputs": []
    },
    {
      "cell_type": "code",
      "metadata": {
        "id": "LS_l3S2G4QC9"
      },
      "source": [
        "from sklearn.linear_model import LinearRegression"
      ],
      "execution_count": 26,
      "outputs": []
    },
    {
      "cell_type": "code",
      "metadata": {
        "id": "2EsIBmE64WTL"
      },
      "source": [
        "lr=LinearRegression()"
      ],
      "execution_count": 27,
      "outputs": []
    },
    {
      "cell_type": "code",
      "metadata": {
        "id": "u0qlWofE4ZAD"
      },
      "source": [
        "pred=lr.fit(x_train,y_train).predict(x_test)"
      ],
      "execution_count": 28,
      "outputs": []
    },
    {
      "cell_type": "code",
      "metadata": {
        "colab": {
          "base_uri": "https://localhost:8080/"
        },
        "id": "5zqkc-XG6CBS",
        "outputId": "98650e7f-41ab-4102-c294-683eb50320cb"
      },
      "source": [
        "pred"
      ],
      "execution_count": 30,
      "outputs": [
        {
          "output_type": "execute_result",
          "data": {
            "text/plain": [
              "array([[32.65503184],\n",
              "       [28.0934953 ],\n",
              "       [18.02901829],\n",
              "       [21.47671576],\n",
              "       [18.8254387 ],\n",
              "       [19.87997758],\n",
              "       [32.42014863],\n",
              "       [18.06597765],\n",
              "       [24.42277848],\n",
              "       [27.00977832],\n",
              "       [27.04081017],\n",
              "       [28.75196794],\n",
              "       [21.15677699],\n",
              "       [26.85200196],\n",
              "       [23.38835945],\n",
              "       [20.66241266],\n",
              "       [17.33082198],\n",
              "       [38.24813601],\n",
              "       [30.50550873],\n",
              "       [ 8.74436733],\n",
              "       [20.80203902],\n",
              "       [16.26328126],\n",
              "       [25.21805656],\n",
              "       [24.85175752],\n",
              "       [31.384365  ],\n",
              "       [10.71311063],\n",
              "       [13.80434635],\n",
              "       [16.65930389],\n",
              "       [36.52625779],\n",
              "       [14.66750528],\n",
              "       [21.12114902],\n",
              "       [13.95558618],\n",
              "       [43.16210242],\n",
              "       [17.97539649],\n",
              "       [21.80116017],\n",
              "       [20.58294808],\n",
              "       [17.59938821],\n",
              "       [27.2212319 ],\n",
              "       [ 9.46139365],\n",
              "       [19.82963781],\n",
              "       [24.30751863],\n",
              "       [21.18528812],\n",
              "       [29.57235682],\n",
              "       [16.3431752 ],\n",
              "       [19.31483171],\n",
              "       [14.56343172],\n",
              "       [39.20885479],\n",
              "       [18.10887551],\n",
              "       [25.91223267],\n",
              "       [20.33018802],\n",
              "       [25.16282007],\n",
              "       [24.42921237],\n",
              "       [25.07123258],\n",
              "       [26.6603279 ],\n",
              "       [ 4.56151258],\n",
              "       [24.0818735 ],\n",
              "       [10.88682673],\n",
              "       [26.88926656],\n",
              "       [16.85598381],\n",
              "       [35.88704363],\n",
              "       [19.55733853],\n",
              "       [27.51928921],\n",
              "       [16.58436103],\n",
              "       [18.77551029],\n",
              "       [11.13872875],\n",
              "       [32.36392607],\n",
              "       [36.72833773],\n",
              "       [21.95924582],\n",
              "       [24.57949647],\n",
              "       [25.14868695],\n",
              "       [23.42841301],\n",
              "       [ 6.90732017],\n",
              "       [16.56298149],\n",
              "       [20.41940517],\n",
              "       [20.80403418],\n",
              "       [21.54219598],\n",
              "       [33.85383463],\n",
              "       [27.94645899],\n",
              "       [25.17281456],\n",
              "       [34.65883942],\n",
              "       [18.62487738],\n",
              "       [23.97375565],\n",
              "       [34.6419296 ],\n",
              "       [13.34754896],\n",
              "       [20.71097982],\n",
              "       [30.0803549 ],\n",
              "       [17.13421671],\n",
              "       [24.30528434],\n",
              "       [19.25576671],\n",
              "       [16.98006722],\n",
              "       [27.00622638],\n",
              "       [41.85509074],\n",
              "       [14.11131512],\n",
              "       [23.25736073],\n",
              "       [14.66302672],\n",
              "       [21.86977175],\n",
              "       [23.02527624],\n",
              "       [29.0899182 ],\n",
              "       [37.11937872],\n",
              "       [20.53271022],\n",
              "       [17.36840034],\n",
              "       [17.71399314]])"
            ]
          },
          "metadata": {},
          "execution_count": 30
        }
      ]
    },
    {
      "cell_type": "code",
      "metadata": {
        "colab": {
          "base_uri": "https://localhost:8080/",
          "height": 419
        },
        "id": "-CgCOG7N6Thy",
        "outputId": "8601b5c5-64ee-480c-dc69-15358cb71d7f"
      },
      "source": [
        "y_test"
      ],
      "execution_count": 31,
      "outputs": [
        {
          "output_type": "execute_result",
          "data": {
            "text/html": [
              "<div>\n",
              "<style scoped>\n",
              "    .dataframe tbody tr th:only-of-type {\n",
              "        vertical-align: middle;\n",
              "    }\n",
              "\n",
              "    .dataframe tbody tr th {\n",
              "        vertical-align: top;\n",
              "    }\n",
              "\n",
              "    .dataframe thead th {\n",
              "        text-align: right;\n",
              "    }\n",
              "</style>\n",
              "<table border=\"1\" class=\"dataframe\">\n",
              "  <thead>\n",
              "    <tr style=\"text-align: right;\">\n",
              "      <th></th>\n",
              "      <th>medv</th>\n",
              "    </tr>\n",
              "  </thead>\n",
              "  <tbody>\n",
              "    <tr>\n",
              "      <th>307</th>\n",
              "      <td>28.2</td>\n",
              "    </tr>\n",
              "    <tr>\n",
              "      <th>343</th>\n",
              "      <td>23.9</td>\n",
              "    </tr>\n",
              "    <tr>\n",
              "      <th>47</th>\n",
              "      <td>16.6</td>\n",
              "    </tr>\n",
              "    <tr>\n",
              "      <th>67</th>\n",
              "      <td>22.0</td>\n",
              "    </tr>\n",
              "    <tr>\n",
              "      <th>362</th>\n",
              "      <td>20.8</td>\n",
              "    </tr>\n",
              "    <tr>\n",
              "      <th>...</th>\n",
              "      <td>...</td>\n",
              "    </tr>\n",
              "    <tr>\n",
              "      <th>92</th>\n",
              "      <td>22.9</td>\n",
              "    </tr>\n",
              "    <tr>\n",
              "      <th>224</th>\n",
              "      <td>44.8</td>\n",
              "    </tr>\n",
              "    <tr>\n",
              "      <th>110</th>\n",
              "      <td>21.7</td>\n",
              "    </tr>\n",
              "    <tr>\n",
              "      <th>426</th>\n",
              "      <td>10.2</td>\n",
              "    </tr>\n",
              "    <tr>\n",
              "      <th>443</th>\n",
              "      <td>15.4</td>\n",
              "    </tr>\n",
              "  </tbody>\n",
              "</table>\n",
              "<p>102 rows × 1 columns</p>\n",
              "</div>"
            ],
            "text/plain": [
              "     medv\n",
              "307  28.2\n",
              "343  23.9\n",
              "47   16.6\n",
              "67   22.0\n",
              "362  20.8\n",
              "..    ...\n",
              "92   22.9\n",
              "224  44.8\n",
              "110  21.7\n",
              "426  10.2\n",
              "443  15.4\n",
              "\n",
              "[102 rows x 1 columns]"
            ]
          },
          "metadata": {},
          "execution_count": 31
        }
      ]
    },
    {
      "cell_type": "code",
      "metadata": {
        "id": "NQ2pQmHP4omP"
      },
      "source": [
        "from sklearn.metrics import mean_squared_error"
      ],
      "execution_count": 11,
      "outputs": []
    },
    {
      "cell_type": "code",
      "metadata": {
        "colab": {
          "base_uri": "https://localhost:8080/"
        },
        "id": "0KiGur4d5Oyf",
        "outputId": "dad22bac-266b-4ae0-b5ce-cac34dc26b5f"
      },
      "source": [
        "mse=mean_squared_error(y_test,pred)\n",
        "mse"
      ],
      "execution_count": 17,
      "outputs": [
        {
          "output_type": "execute_result",
          "data": {
            "text/plain": [
              "23.38083648027041"
            ]
          },
          "metadata": {},
          "execution_count": 17
        }
      ]
    },
    {
      "cell_type": "code",
      "metadata": {
        "colab": {
          "base_uri": "https://localhost:8080/"
        },
        "id": "ocZxmRD_5Tx_",
        "outputId": "265aee86-5040-4192-fdea-9d42516f585d"
      },
      "source": [
        "rmse=np.sqrt(mse)\n",
        "rmse"
      ],
      "execution_count": 16,
      "outputs": [
        {
          "output_type": "execute_result",
          "data": {
            "text/plain": [
              "4.835373458200556"
            ]
          },
          "metadata": {},
          "execution_count": 16
        }
      ]
    }
  ]
}